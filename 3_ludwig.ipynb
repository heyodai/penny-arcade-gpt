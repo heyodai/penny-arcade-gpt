{
 "cells": [
  {
   "attachments": {},
   "cell_type": "markdown",
   "metadata": {},
   "source": [
    "In this notebook, we're going to use Ludwidg to train a model on the Penny Arcade dataset (`data/penny_arcade_processed.csv`). We'll use the `text` column as the input and the `label` column as the output."
   ]
  },
  {
   "cell_type": "code",
   "execution_count": 2,
   "metadata": {},
   "outputs": [
    {
     "data": {
      "text/html": [
       "<div>\n",
       "<style scoped>\n",
       "    .dataframe tbody tr th:only-of-type {\n",
       "        vertical-align: middle;\n",
       "    }\n",
       "\n",
       "    .dataframe tbody tr th {\n",
       "        vertical-align: top;\n",
       "    }\n",
       "\n",
       "    .dataframe thead th {\n",
       "        text-align: right;\n",
       "    }\n",
       "</style>\n",
       "<table border=\"1\" class=\"dataframe\">\n",
       "  <thead>\n",
       "    <tr style=\"text-align: right;\">\n",
       "      <th></th>\n",
       "      <th>prompt</th>\n",
       "      <th>output</th>\n",
       "    </tr>\n",
       "  </thead>\n",
       "  <tbody>\n",
       "    <tr>\n",
       "      <th>0</th>\n",
       "      <td>Exhilarating,</td>\n",
       "      <td>We only know two people who don't live within ...</td>\n",
       "    </tr>\n",
       "    <tr>\n",
       "      <th>1</th>\n",
       "      <td>Penny Arcade is A Comedy Bistro,</td>\n",
       "      <td>Over at Gabe's yesterday, I mentioned that Gui...</td>\n",
       "    </tr>\n",
       "    <tr>\n",
       "      <th>2</th>\n",
       "      <td>Minus The Pope And A Rabbi,</td>\n",
       "      <td>I thought that I had uploaded the comic, but I...</td>\n",
       "    </tr>\n",
       "    <tr>\n",
       "      <th>3</th>\n",
       "      <td>Jealousy,</td>\n",
       "      <td>It's fine and everything, but there's all thes...</td>\n",
       "    </tr>\n",
       "    <tr>\n",
       "      <th>4</th>\n",
       "      <td>I Forgot,</td>\n",
       "      <td>My man Pork mentioned this Star Wars fan-film ...</td>\n",
       "    </tr>\n",
       "  </tbody>\n",
       "</table>\n",
       "</div>"
      ],
      "text/plain": [
       "                              prompt  \\\n",
       "0                     Exhilarating,    \n",
       "1  Penny Arcade is A Comedy Bistro,    \n",
       "2       Minus The Pope And A Rabbi,    \n",
       "3                         Jealousy,    \n",
       "4                         I Forgot,    \n",
       "\n",
       "                                              output  \n",
       "0  We only know two people who don't live within ...  \n",
       "1  Over at Gabe's yesterday, I mentioned that Gui...  \n",
       "2  I thought that I had uploaded the comic, but I...  \n",
       "3  It's fine and everything, but there's all thes...  \n",
       "4  My man Pork mentioned this Star Wars fan-film ...  "
      ]
     },
     "execution_count": 2,
     "metadata": {},
     "output_type": "execute_result"
    }
   ],
   "source": [
    "import pandas as pd\n",
    "\n",
    "df = pd.read_csv('data/penny_arcade_processed.csv')\n",
    "\n",
    "# rename columns for clarity\n",
    "df = df.rename(columns={'title': 'prompt', 'text': 'output'})\n",
    "\n",
    "df.head()"
   ]
  },
  {
   "cell_type": "code",
   "execution_count": 4,
   "metadata": {},
   "outputs": [],
   "source": [
    "from ludwig.api import LudwigModel\n",
    "\n",
    "# Define the input and output feature configurations\n",
    "input_features = [{'name': 'prompt', 'type': 'text', 'encoder': 't5', 'trainable': True}]\n",
    "output_features = [{'name': 'output', 'type': 'text', 'decoder': 'tagger'}]\n",
    "\n",
    "# Define the model configuration\n",
    "model_definition = {'input_features': input_features, 'output_features': output_features}\n",
    "\n",
    "# Initialize the LudwigModel object with the model configuration\n",
    "model = LudwigModel(model_definition)"
   ]
  },
  {
   "cell_type": "code",
   "execution_count": 7,
   "metadata": {},
   "outputs": [
    {
     "ename": "ImportError",
     "evalue": "cannot import name 'Dataset' from 'ludwig.data.dataset' (/Users/odai/penny-arcade-news-scraper/env/lib/python3.10/site-packages/ludwig/data/dataset/__init__.py)",
     "output_type": "error",
     "traceback": [
      "\u001b[0;31m---------------------------------------------------------------------------\u001b[0m",
      "\u001b[0;31mImportError\u001b[0m                               Traceback (most recent call last)",
      "Cell \u001b[0;32mIn[7], line 1\u001b[0m\n\u001b[0;32m----> 1\u001b[0m \u001b[39mfrom\u001b[39;00m \u001b[39mludwig\u001b[39;00m\u001b[39m.\u001b[39;00m\u001b[39mdata\u001b[39;00m\u001b[39m.\u001b[39;00m\u001b[39mdataset\u001b[39;00m \u001b[39mimport\u001b[39;00m Dataset\n\u001b[1;32m      3\u001b[0m \u001b[39m# Convert the training data to a Dataset object\u001b[39;00m\n\u001b[1;32m      4\u001b[0m training_set \u001b[39m=\u001b[39m Dataset(df)\n",
      "\u001b[0;31mImportError\u001b[0m: cannot import name 'Dataset' from 'ludwig.data.dataset' (/Users/odai/penny-arcade-news-scraper/env/lib/python3.10/site-packages/ludwig/data/dataset/__init__.py)"
     ]
    }
   ],
   "source": [
    "from ludwig.data.dataset import Dataset\n",
    "\n",
    "# Convert the training data to a Dataset object\n",
    "training_set = Dataset(df)"
   ]
  },
  {
   "cell_type": "code",
   "execution_count": 6,
   "metadata": {},
   "outputs": [
    {
     "ename": "ValueError",
     "evalue": "At least one between dataset and training_set must be not None",
     "output_type": "error",
     "traceback": [
      "\u001b[0;31m---------------------------------------------------------------------------\u001b[0m",
      "\u001b[0;31mValueError\u001b[0m                                Traceback (most recent call last)",
      "Cell \u001b[0;32mIn[6], line 2\u001b[0m\n\u001b[1;32m      1\u001b[0m \u001b[39m# Train the model using the training dataset\u001b[39;00m\n\u001b[0;32m----> 2\u001b[0m train_stats \u001b[39m=\u001b[39m model\u001b[39m.\u001b[39;49mtrain(training_data\u001b[39m=\u001b[39;49mdf)\n\u001b[1;32m      4\u001b[0m \u001b[39m# Print the training statistics\u001b[39;00m\n\u001b[1;32m      5\u001b[0m \u001b[39mprint\u001b[39m(train_stats)\n",
      "File \u001b[0;32m~/penny-arcade-news-scraper/env/lib/python3.10/site-packages/ludwig/api.py:498\u001b[0m, in \u001b[0;36mLudwigModel.train\u001b[0;34m(self, dataset, training_set, validation_set, test_set, training_set_metadata, data_format, experiment_name, model_name, model_resume_path, skip_save_training_description, skip_save_training_statistics, skip_save_model, skip_save_progress, skip_save_log, skip_save_processed_input, output_directory, random_seed, **kwargs)\u001b[0m\n\u001b[1;32m    495\u001b[0m \u001b[39melse\u001b[39;00m:\n\u001b[1;32m    496\u001b[0m     \u001b[39m# save description\u001b[39;00m\n\u001b[1;32m    497\u001b[0m     \u001b[39mif\u001b[39;00m \u001b[39mself\u001b[39m\u001b[39m.\u001b[39mbackend\u001b[39m.\u001b[39mis_coordinator():\n\u001b[0;32m--> 498\u001b[0m         description \u001b[39m=\u001b[39m get_experiment_description(\n\u001b[1;32m    499\u001b[0m             \u001b[39mself\u001b[39;49m\u001b[39m.\u001b[39;49mconfig_obj\u001b[39m.\u001b[39;49mto_dict(),\n\u001b[1;32m    500\u001b[0m             dataset\u001b[39m=\u001b[39;49mdataset,\n\u001b[1;32m    501\u001b[0m             training_set\u001b[39m=\u001b[39;49mtraining_set,\n\u001b[1;32m    502\u001b[0m             validation_set\u001b[39m=\u001b[39;49mvalidation_set,\n\u001b[1;32m    503\u001b[0m             test_set\u001b[39m=\u001b[39;49mtest_set,\n\u001b[1;32m    504\u001b[0m             training_set_metadata\u001b[39m=\u001b[39;49mtraining_set_metadata,\n\u001b[1;32m    505\u001b[0m             data_format\u001b[39m=\u001b[39;49mdata_format,\n\u001b[1;32m    506\u001b[0m             backend\u001b[39m=\u001b[39;49m\u001b[39mself\u001b[39;49m\u001b[39m.\u001b[39;49mbackend,\n\u001b[1;32m    507\u001b[0m             random_seed\u001b[39m=\u001b[39;49mrandom_seed,\n\u001b[1;32m    508\u001b[0m         )\n\u001b[1;32m    510\u001b[0m         \u001b[39mif\u001b[39;00m \u001b[39mnot\u001b[39;00m skip_save_training_description:\n\u001b[1;32m    511\u001b[0m             save_json(description_fn, description)\n",
      "File \u001b[0;32m~/penny-arcade-news-scraper/env/lib/python3.10/site-packages/ludwig/api.py:1954\u001b[0m, in \u001b[0;36mget_experiment_description\u001b[0;34m(config, dataset, training_set, validation_set, test_set, training_set_metadata, data_format, backend, random_seed)\u001b[0m\n\u001b[1;32m   1952\u001b[0m \u001b[39m# determine data format if not provided or auto\u001b[39;00m\n\u001b[1;32m   1953\u001b[0m \u001b[39mif\u001b[39;00m \u001b[39mnot\u001b[39;00m data_format \u001b[39mor\u001b[39;00m data_format \u001b[39m==\u001b[39m \u001b[39m\"\u001b[39m\u001b[39mauto\u001b[39m\u001b[39m\"\u001b[39m:\n\u001b[0;32m-> 1954\u001b[0m     data_format \u001b[39m=\u001b[39m figure_data_format(dataset, training_set, validation_set, test_set)\n\u001b[1;32m   1956\u001b[0m \u001b[39mif\u001b[39;00m data_format:\n\u001b[1;32m   1957\u001b[0m     description[\u001b[39m\"\u001b[39m\u001b[39mdata_format\u001b[39m\u001b[39m\"\u001b[39m] \u001b[39m=\u001b[39m \u001b[39mstr\u001b[39m(data_format)\n",
      "File \u001b[0;32m~/penny-arcade-news-scraper/env/lib/python3.10/site-packages/ludwig/utils/data_utils.py:897\u001b[0m, in \u001b[0;36mfigure_data_format\u001b[0;34m(dataset, training_set, validation_set, test_set)\u001b[0m\n\u001b[1;32m    895\u001b[0m         data_format \u001b[39m=\u001b[39m \u001b[39mnext\u001b[39m(\u001b[39miter\u001b[39m(data_formats_set))\n\u001b[1;32m    896\u001b[0m \u001b[39melse\u001b[39;00m:\n\u001b[0;32m--> 897\u001b[0m     \u001b[39mraise\u001b[39;00m \u001b[39mValueError\u001b[39;00m(\u001b[39m\"\u001b[39m\u001b[39mAt least one between dataset and training_set must be not None\u001b[39m\u001b[39m\"\u001b[39m)\n\u001b[1;32m    898\u001b[0m \u001b[39mreturn\u001b[39;00m data_format\n",
      "\u001b[0;31mValueError\u001b[0m: At least one between dataset and training_set must be not None"
     ]
    }
   ],
   "source": [
    "# Train the model using the training dataset\n",
    "train_stats = model.train(training_set=training_set)\n",
    "\n",
    "# Print the training statistics\n",
    "print(train_stats)"
   ]
  }
 ],
 "metadata": {
  "kernelspec": {
   "display_name": "Python 3",
   "language": "python",
   "name": "python3"
  },
  "language_info": {
   "codemirror_mode": {
    "name": "ipython",
    "version": 3
   },
   "file_extension": ".py",
   "mimetype": "text/x-python",
   "name": "python",
   "nbconvert_exporter": "python",
   "pygments_lexer": "ipython3",
   "version": "3.10.9"
  },
  "orig_nbformat": 4
 },
 "nbformat": 4,
 "nbformat_minor": 2
}
